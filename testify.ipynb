{
 "cells": [
  {
   "cell_type": "code",
   "execution_count": 2,
   "metadata": {
    "collapsed": true,
    "pycharm": {
     "name": "#%% 验证一下排名算法的结果是否正确\n"
    }
   },
   "outputs": [],
   "source": [
    "from utils import compute_rank\n",
    "import numpy as np\n",
    "import torch"
   ]
  },
  {
   "cell_type": "code",
   "execution_count": 3,
   "outputs": [],
   "source": [
    "def predict(h_final, player_num):\n",
    "    \"\"\"\n",
    "    根据最终嵌入输出角色预测结果\n",
    "    :param player_num: 玩家数量\n",
    "    :param h_final: 最终嵌入的列表\n",
    "    :return:\n",
    "    \"\"\"\n",
    "    rank_row, rank_column, rank_column_T = [], [], []\n",
    "    #  计算玩家自己的排名向量\n",
    "    for h in h_final:\n",
    "        rank_row.append(compute_rank(h))\n",
    "\n",
    "    #  计算玩家间同一角色的排名向量\n",
    "    for i in range(5):\n",
    "        h_column = np.zeros(player_num)\n",
    "        for j in range(len(h_final)):\n",
    "            h_column[j] = h_final[j][i]\n",
    "        rank_column.append(compute_rank(torch.from_numpy(h_column)))\n",
    "    for i in range(player_num):\n",
    "        h1 = []\n",
    "        for j in range(5):\n",
    "            h1.append(rank_column[j][i])\n",
    "        rank_column_T.append(h1)\n",
    "    return rank_row, rank_column, rank_column_T"
   ],
   "metadata": {
    "collapsed": false,
    "pycharm": {
     "name": "#%%\n"
    }
   }
  },
  {
   "cell_type": "code",
   "execution_count": 4,
   "outputs": [
    {
     "name": "stdout",
     "output_type": "stream",
     "text": [
      "[array([5., 4., 2., 3., 1., 6., 7.]), array([1., 2., 3., 4., 5., 6., 7.]), array([1., 2., 3., 4., 5., 6., 7.]), array([4., 2., 3., 5., 6., 1., 7.]), array([5., 3., 6., 2., 4., 7., 1.])]\n",
      "[array([5., 4., 2., 3., 1., 6., 7.]), array([1., 2., 3., 4., 5., 6., 7.]), array([1., 2., 3., 4., 5., 6., 7.]), array([4., 2., 3., 5., 6., 1., 7.]), array([5., 3., 6., 2., 4., 7., 1.])]\n"
     ]
    }
   ],
   "source": [
    "a = torch.tensor([[0.3, 0.6, 0.1, 0, 0],\n",
    "                  [0.5, 0.2, 0.1, 0.1, 0.1],\n",
    "                  [0.7, 0.1, 0.1, 0.1, 0],\n",
    "                  [0.6, 0, 0.1, 0, 0.3],\n",
    "                  [0.8, 0, 0.1, 0, 0.1],\n",
    "                  [0.3, 0, 0.1, 0.6, 0],\n",
    "                  [0.3, 0, 0.1, 0, 0.6]])\n",
    "rank_row, rank_column, rank_column_T = predict(a, 7)\n",
    "print(rank_column)\n",
    "print(rank_column_T)\n",
    "\n",
    "player_num = 7\n",
    "roles_num = 5\n",
    "trueRole = []  # 玩家的真实角色\n",
    "for i in range(player_num):\n",
    "    trueRole.append(torch.zeros(roles_num))\n",
    "\n",
    "tmp = []  # 临时保存某个角色的当前人选\n",
    "for i in range(roles_num):\n",
    "    tmp.append([])\n",
    "\n",
    "vis = torch.zeros(player_num)  #记录当前角色有没有被指定角色\n",
    "\n",
    "rolesNum = [3, 1, 1, 1, 1]\n",
    "for i in range(len(rolesNum)):\n",
    "    num = rolesNum[i]\n",
    "    rank = rank_column[i]\n",
    "    for j in range(1, num+1):  # 在rank_column中找排在前num个的\n",
    "        pos = (rank == j).nonzero()\n",
    "        if not vis[pos]:   #如果还未被分配角色\n",
    "            tmp[i].append(pos)\n",
    "            vis[pos] = 1\n",
    "        else:\n",
    "            # 只需要找一步\n",
    "            # 比如[a, b, c]中删除c，找下一个放入。\n",
    "\n",
    "    # 还是先玩家再角色比较好\n",
    "    # 先取每个玩家概率最大的作为角色\n",
    "    # 若角色x已指定abc，而d也首选x\n",
    "    # 若d在同一角色中的排名大于abc，\n",
    "\n"
   ],
   "metadata": {
    "collapsed": false,
    "pycharm": {
     "name": "#%%\n"
    }
   }
  }
 ],
 "metadata": {
  "kernelspec": {
   "display_name": "Python 3",
   "language": "python",
   "name": "python3"
  },
  "language_info": {
   "codemirror_mode": {
    "name": "ipython",
    "version": 2
   },
   "file_extension": ".py",
   "mimetype": "text/x-python",
   "name": "python",
   "nbconvert_exporter": "python",
   "pygments_lexer": "ipython2",
   "version": "2.7.6"
  }
 },
 "nbformat": 4,
 "nbformat_minor": 0
}